{
  "nbformat": 4,
  "nbformat_minor": 0,
  "metadata": {
    "colab": {
      "name": "BajigurCloth.ipynb",
      "provenance": []
    },
    "kernelspec": {
      "name": "python3",
      "display_name": "Python 3"
    }
  },
  "cells": [
    {
      "cell_type": "code",
      "metadata": {
        "id": "GLzYipJUrKu2",
        "outputId": "8cb391aa-2336-46a0-f8c1-5913b45e1baf",
        "colab": {
          "base_uri": "https://localhost:8080/",
          "height": 581
        }
      },
      "source": [
        "# Fungsi untuk tim Bajigur Cloth adalah fungsi untuk dapat meng-ekstraksi Feature-Feature yang ada pada review yang diberikan oleh customer,\n",
        "# Hal ini diperlukan untuk membantu fungsi selanjutnya yaitu fungsi recommender sehingga tim Bajigur Cloth mudah menyimpulkan apakah produk layak dijadikan sebagai produk rekomendasi selanjutnya\n",
        "\n",
        "# Fungsi Feature Extraction\n",
        "\n",
        "# Data yang digunakan sebagai contoh adalah data film\n",
        "import pandas as pd\n",
        "import io\n",
        "from google.colab import files\n",
        "\n",
        "# Load jika menggunakan google colab\n",
        "# uploaded = files.upload()\n",
        "# metadata = pd.read_csv(io.BytesIO(uploaded['movies_metadata.csv']))\n",
        "\n",
        "# Load jika data berada di satu directory yang sama\n",
        "metadata = pd.read_csv('movies_metadata.csv', low_memory=False)\n",
        "metadata = metadata.sample(n=100, random_state=42)\n",
        "metadata.head()"
      ],
      "execution_count": 1,
      "outputs": [
        {
          "output_type": "execute_result",
          "data": {
            "text/html": [
              "<div>\n",
              "<style scoped>\n",
              "    .dataframe tbody tr th:only-of-type {\n",
              "        vertical-align: middle;\n",
              "    }\n",
              "\n",
              "    .dataframe tbody tr th {\n",
              "        vertical-align: top;\n",
              "    }\n",
              "\n",
              "    .dataframe thead th {\n",
              "        text-align: right;\n",
              "    }\n",
              "</style>\n",
              "<table border=\"1\" class=\"dataframe\">\n",
              "  <thead>\n",
              "    <tr style=\"text-align: right;\">\n",
              "      <th></th>\n",
              "      <th>adult</th>\n",
              "      <th>belongs_to_collection</th>\n",
              "      <th>budget</th>\n",
              "      <th>genres</th>\n",
              "      <th>homepage</th>\n",
              "      <th>id</th>\n",
              "      <th>imdb_id</th>\n",
              "      <th>original_language</th>\n",
              "      <th>original_title</th>\n",
              "      <th>overview</th>\n",
              "      <th>popularity</th>\n",
              "      <th>poster_path</th>\n",
              "      <th>production_companies</th>\n",
              "      <th>production_countries</th>\n",
              "      <th>release_date</th>\n",
              "      <th>revenue</th>\n",
              "      <th>runtime</th>\n",
              "      <th>spoken_languages</th>\n",
              "      <th>status</th>\n",
              "      <th>tagline</th>\n",
              "      <th>title</th>\n",
              "      <th>video</th>\n",
              "      <th>vote_average</th>\n",
              "      <th>vote_count</th>\n",
              "    </tr>\n",
              "  </thead>\n",
              "  <tbody>\n",
              "    <tr>\n",
              "      <th>43526</th>\n",
              "      <td>False</td>\n",
              "      <td>NaN</td>\n",
              "      <td>0</td>\n",
              "      <td>[{'id': 18, 'name': 'Drama'}, {'id': 35, 'name...</td>\n",
              "      <td>https://www.netflix.com/title/80164212</td>\n",
              "      <td>411405</td>\n",
              "      <td>tt5717492</td>\n",
              "      <td>en</td>\n",
              "      <td>Small Crimes</td>\n",
              "      <td>A disgraced former cop, fresh off a six-year p...</td>\n",
              "      <td>7.219022</td>\n",
              "      <td>/z7jmLmrs0pLlDU4GI6ItaJeqlET.jpg</td>\n",
              "      <td>[{'name': 'Rooks Nest Entertainment', 'id': 34...</td>\n",
              "      <td>[{'iso_3166_1': 'CA', 'name': 'Canada'}, {'iso...</td>\n",
              "      <td>2017-04-28</td>\n",
              "      <td>0.0</td>\n",
              "      <td>95.0</td>\n",
              "      <td>[{'iso_639_1': 'en', 'name': 'English'}, {'iso...</td>\n",
              "      <td>Released</td>\n",
              "      <td>NaN</td>\n",
              "      <td>Small Crimes</td>\n",
              "      <td>False</td>\n",
              "      <td>5.8</td>\n",
              "      <td>55.0</td>\n",
              "    </tr>\n",
              "    <tr>\n",
              "      <th>6383</th>\n",
              "      <td>False</td>\n",
              "      <td>NaN</td>\n",
              "      <td>0</td>\n",
              "      <td>[{'id': 18, 'name': 'Drama'}, {'id': 35, 'name...</td>\n",
              "      <td>NaN</td>\n",
              "      <td>42492</td>\n",
              "      <td>tt0069449</td>\n",
              "      <td>en</td>\n",
              "      <td>Up the Sandbox</td>\n",
              "      <td>A young wife and mother, bored with day-to-day...</td>\n",
              "      <td>0.13845</td>\n",
              "      <td>/zwOmdqvPObv9EsMgne7EBYzPYGW.jpg</td>\n",
              "      <td>[{'name': 'Barwood Films', 'id': 3645}, {'name...</td>\n",
              "      <td>[{'iso_3166_1': 'US', 'name': 'United States o...</td>\n",
              "      <td>1972-12-21</td>\n",
              "      <td>0.0</td>\n",
              "      <td>97.0</td>\n",
              "      <td>[{'iso_639_1': 'en', 'name': 'English'}]</td>\n",
              "      <td>Released</td>\n",
              "      <td>NaN</td>\n",
              "      <td>Up the Sandbox</td>\n",
              "      <td>False</td>\n",
              "      <td>7.3</td>\n",
              "      <td>2.0</td>\n",
              "    </tr>\n",
              "    <tr>\n",
              "      <th>3154</th>\n",
              "      <td>False</td>\n",
              "      <td>NaN</td>\n",
              "      <td>1000000</td>\n",
              "      <td>[{'id': 80, 'name': 'Crime'}, {'id': 18, 'name...</td>\n",
              "      <td>NaN</td>\n",
              "      <td>12143</td>\n",
              "      <td>tt0103759</td>\n",
              "      <td>en</td>\n",
              "      <td>Bad Lieutenant</td>\n",
              "      <td>While investigating a young nun's rape, a corr...</td>\n",
              "      <td>6.417037</td>\n",
              "      <td>/oe8VjWCKXktqA19T1ZWtaSn8rc2.jpg</td>\n",
              "      <td>[{'name': 'Bad Lt. Productions', 'id': 11264}]</td>\n",
              "      <td>[{'iso_3166_1': 'US', 'name': 'United States o...</td>\n",
              "      <td>1992-09-16</td>\n",
              "      <td>2019469.0</td>\n",
              "      <td>96.0</td>\n",
              "      <td>[{'iso_639_1': 'en', 'name': 'English'}, {'iso...</td>\n",
              "      <td>Released</td>\n",
              "      <td>Gambler. Thief. Junkie. Killer. Cop.</td>\n",
              "      <td>Bad Lieutenant</td>\n",
              "      <td>False</td>\n",
              "      <td>6.9</td>\n",
              "      <td>162.0</td>\n",
              "    </tr>\n",
              "    <tr>\n",
              "      <th>10146</th>\n",
              "      <td>False</td>\n",
              "      <td>NaN</td>\n",
              "      <td>0</td>\n",
              "      <td>[{'id': 27, 'name': 'Horror'}, {'id': 10749, '...</td>\n",
              "      <td>NaN</td>\n",
              "      <td>9976</td>\n",
              "      <td>tt0380687</td>\n",
              "      <td>en</td>\n",
              "      <td>Satan's Little Helper</td>\n",
              "      <td>A naïve young boy unknowingly becomes the pawn...</td>\n",
              "      <td>2.233189</td>\n",
              "      <td>/59HgSvjDiaqUSYz43VZnpChgBkp.jpg</td>\n",
              "      <td>[{'name': 'Intrinsic Value Films', 'id': 2828}...</td>\n",
              "      <td>[{'iso_3166_1': 'US', 'name': 'United States o...</td>\n",
              "      <td>2004-01-01</td>\n",
              "      <td>0.0</td>\n",
              "      <td>100.0</td>\n",
              "      <td>[{'iso_639_1': 'it', 'name': 'Italiano'}, {'is...</td>\n",
              "      <td>Released</td>\n",
              "      <td>You'll laugh 'til you die</td>\n",
              "      <td>Satan's Little Helper</td>\n",
              "      <td>False</td>\n",
              "      <td>5.0</td>\n",
              "      <td>42.0</td>\n",
              "    </tr>\n",
              "    <tr>\n",
              "      <th>9531</th>\n",
              "      <td>False</td>\n",
              "      <td>NaN</td>\n",
              "      <td>0</td>\n",
              "      <td>[{'id': 35, 'name': 'Comedy'}, {'id': 18, 'nam...</td>\n",
              "      <td>NaN</td>\n",
              "      <td>46761</td>\n",
              "      <td>tt0157044</td>\n",
              "      <td>fr</td>\n",
              "      <td>Sitcom</td>\n",
              "      <td>The adventures of an upper-class suburban fami...</td>\n",
              "      <td>1.800582</td>\n",
              "      <td>/fZqanl6sCC29zU1K2v2mpuWyyYw.jpg</td>\n",
              "      <td>[{'name': 'Fidélité Productions', 'id': 147}]</td>\n",
              "      <td>[{'iso_3166_1': 'FR', 'name': 'France'}]</td>\n",
              "      <td>1998-05-27</td>\n",
              "      <td>0.0</td>\n",
              "      <td>80.0</td>\n",
              "      <td>[{'iso_639_1': 'fr', 'name': 'Français'}]</td>\n",
              "      <td>Released</td>\n",
              "      <td>NaN</td>\n",
              "      <td>Sitcom</td>\n",
              "      <td>False</td>\n",
              "      <td>6.4</td>\n",
              "      <td>27.0</td>\n",
              "    </tr>\n",
              "  </tbody>\n",
              "</table>\n",
              "</div>"
            ],
            "text/plain": [
              "       adult belongs_to_collection   budget  ...  video vote_average vote_count\n",
              "43526  False                   NaN        0  ...  False          5.8       55.0\n",
              "6383   False                   NaN        0  ...  False          7.3        2.0\n",
              "3154   False                   NaN  1000000  ...  False          6.9      162.0\n",
              "10146  False                   NaN        0  ...  False          5.0       42.0\n",
              "9531   False                   NaN        0  ...  False          6.4       27.0\n",
              "\n",
              "[5 rows x 24 columns]"
            ]
          },
          "metadata": {
            "tags": []
          },
          "execution_count": 1
        }
      ]
    },
    {
      "cell_type": "code",
      "metadata": {
        "id": "Licvq2bQuTXR",
        "outputId": "d6267f39-46d7-422b-effd-46e724424bd1",
        "colab": {
          "base_uri": "https://localhost:8080/"
        }
      },
      "source": [
        "# Langkah awal adalah menghilang kata tidak bisa kita jadikan sebagai feature yaitu seperti (dan, yang , ...)\n",
        "# Import fungsi yang sudah bisa kita pakai dari \n",
        "from sklearn.feature_extraction.text import TfidfVectorizer\n",
        "# Jika bahasa inggris\n",
        "tfidf = TfidfVectorizer(stop_words='english')\n",
        "\n",
        "# Jika bahasa indonesia\n",
        "# from Sastrawi.StopWordRemover.StopWordRemoverFactory import StopWordRemoverFactory\n",
        "# tfidf = TfidfVectorizer(StopWordRemoverFactory().get_stop_words())\n",
        "\n",
        "# Hilangkan semua nilai null\n",
        "metadata['review'] = metadata['overview'].fillna('')\n",
        "\n",
        "#Mulai \n",
        "tfidf_matrix = tfidf.fit_transform(metadata['overview'].values.astype('U'))\n",
        "\n",
        "#Output\n",
        "tfidf_matrix.shape"
      ],
      "execution_count": 2,
      "outputs": [
        {
          "output_type": "execute_result",
          "data": {
            "text/plain": [
              "(100, 1776)"
            ]
          },
          "metadata": {
            "tags": []
          },
          "execution_count": 2
        }
      ]
    },
    {
      "cell_type": "code",
      "metadata": {
        "id": "VqBDt3rwvTN6",
        "outputId": "25258964-745d-482a-9593-a11aa2b33f39",
        "colab": {
          "base_uri": "https://localhost:8080/"
        }
      },
      "source": [
        "# Langkah selanjutnya adalah mengihutung kesamaan antar data dengan feature yang sudah kita data\n",
        "from sklearn.metrics.pairwise import linear_kernel\n",
        "\n",
        "# Menggunakan cosine similarity matrix\n",
        "cosine_sim = linear_kernel(tfidf_matrix, tfidf_matrix)\n",
        "\n",
        "cosine_sim[:2]"
      ],
      "execution_count": 12,
      "outputs": [
        {
          "output_type": "execute_result",
          "data": {
            "text/plain": [
              "array([[1.        , 0.        , 0.        , 0.        , 0.04380669,\n",
              "        0.        , 0.        , 0.        , 0.        , 0.        ,\n",
              "        0.03304615, 0.        , 0.        , 0.02268336, 0.        ,\n",
              "        0.07489186, 0.        , 0.        , 0.        , 0.        ,\n",
              "        0.        , 0.        , 0.        , 0.        , 0.        ,\n",
              "        0.        , 0.        , 0.        , 0.13727903, 0.        ,\n",
              "        0.        , 0.        , 0.        , 0.        , 0.        ,\n",
              "        0.        , 0.03710582, 0.        , 0.        , 0.        ,\n",
              "        0.        , 0.        , 0.        , 0.        , 0.        ,\n",
              "        0.        , 0.        , 0.        , 0.        , 0.05224136,\n",
              "        0.        , 0.        , 0.0337046 , 0.03815746, 0.        ,\n",
              "        0.        , 0.01304552, 0.        , 0.        , 0.        ,\n",
              "        0.        , 0.        , 0.        , 0.        , 0.        ,\n",
              "        0.03286204, 0.        , 0.02181461, 0.        , 0.        ,\n",
              "        0.        , 0.        , 0.        , 0.        , 0.        ,\n",
              "        0.02876377, 0.03612587, 0.02678942, 0.        , 0.02158305,\n",
              "        0.        , 0.        , 0.        , 0.        , 0.        ,\n",
              "        0.        , 0.        , 0.        , 0.01759663, 0.        ,\n",
              "        0.        , 0.        , 0.        , 0.12169099, 0.        ,\n",
              "        0.        , 0.        , 0.        , 0.03426348, 0.        ],\n",
              "       [0.        , 1.        , 0.08472379, 0.02125813, 0.02110134,\n",
              "        0.01654309, 0.0188424 , 0.        , 0.        , 0.01393728,\n",
              "        0.05702206, 0.02882066, 0.        , 0.09062195, 0.02692688,\n",
              "        0.        , 0.06613537, 0.        , 0.02687351, 0.        ,\n",
              "        0.        , 0.03922384, 0.        , 0.        , 0.        ,\n",
              "        0.01982893, 0.0238757 , 0.        , 0.        , 0.04101971,\n",
              "        0.        , 0.01192466, 0.04577964, 0.        , 0.01207739,\n",
              "        0.05840651, 0.        , 0.        , 0.        , 0.01037067,\n",
              "        0.        , 0.01583249, 0.04432178, 0.05859049, 0.00630155,\n",
              "        0.        , 0.        , 0.01528208, 0.        , 0.02107485,\n",
              "        0.        , 0.        , 0.03640076, 0.01417699, 0.        ,\n",
              "        0.        , 0.        , 0.        , 0.        , 0.01355347,\n",
              "        0.        , 0.03518992, 0.        , 0.        , 0.        ,\n",
              "        0.1420099 , 0.        , 0.        , 0.        , 0.        ,\n",
              "        0.02233607, 0.        , 0.03319159, 0.        , 0.06692224,\n",
              "        0.        , 0.02793867, 0.        , 0.02978627, 0.01347094,\n",
              "        0.        , 0.        , 0.00786384, 0.00782143, 0.        ,\n",
              "        0.02341017, 0.02303657, 0.00871737, 0.02819425, 0.04757294,\n",
              "        0.075601  , 0.        , 0.        , 0.        , 0.00769504,\n",
              "        0.02394528, 0.02702163, 0.        , 0.0148861 , 0.01546996]])"
            ]
          },
          "metadata": {
            "tags": []
          },
          "execution_count": 12
        }
      ]
    },
    {
      "cell_type": "code",
      "metadata": {
        "id": "sK0QOQDRuVz3",
        "outputId": "a926c447-4655-4525-99b2-088985d25c14",
        "colab": {
          "base_uri": "https://localhost:8080/"
        }
      },
      "source": [
        "# Setelah semuanya selesai, kita memerlukan nama-nama produk yang sudah direview, sementara ini kita contohkan dengan data movie\n",
        "\n",
        "indices = pd.Series(metadata.index, index=metadata['title']).drop_duplicates()\n",
        "\n",
        "indices[:10]"
      ],
      "execution_count": 31,
      "outputs": [
        {
          "output_type": "execute_result",
          "data": {
            "text/plain": [
              "title\n",
              "Small Crimes               43526\n",
              "Up the Sandbox              6383\n",
              "Bad Lieutenant              3154\n",
              "Satan's Little Helper      10146\n",
              "Sitcom                      9531\n",
              "Nightlight                 33663\n",
              "Guernsey                   36733\n",
              "The Bells                   3396\n",
              "Due cuori, una cappella    30019\n",
              "Freeheld                   33321\n",
              "dtype: int64"
            ]
          },
          "metadata": {
            "tags": []
          },
          "execution_count": 31
        }
      ]
    },
    {
      "cell_type": "code",
      "metadata": {
        "id": "314oSqw30EqE"
      },
      "source": [
        "# Fungsi yang dibutuhkan oleh customer adalah fungsi recommender dimana customer mendapatkan beberapa saran produk berdasarkan history review yang ia pernah lakukan\n",
        "# Input produk yang sudah pernah customer beli sehingga fungsi dapat membandingkan kesamaan dengan produk lain, sementara ini kita contohkan dengan data movie\n",
        "\n",
        "# Contoh data \"Small Crimes\"\n",
        "\n",
        "def get_recommendations(title, cosine_sim=cosine_sim):\n",
        "#    idx = indices[title]\n",
        "    sim_scores = list(enumerate(cosine_sim[0]))\n",
        "    sim_scores = sorted(sim_scores, key=lambda x: x[1], reverse=True)\n",
        "    sim_scores = sim_scores[1:11]\n",
        "    movie_indices = [i[0] for i in sim_scores]\n",
        "\n",
        "    # Return 10 produk yang paling mirip\n",
        "    return metadata['title'].iloc[movie_indices]"
      ],
      "execution_count": 33,
      "outputs": []
    },
    {
      "cell_type": "code",
      "metadata": {
        "id": "hMQT0uHF1a8M",
        "outputId": "8a67ef53-8605-4431-f4ce-3095e68f3a0a",
        "colab": {
          "base_uri": "https://localhost:8080/"
        }
      },
      "source": [
        "get_recommendations('Small Crimes')"
      ],
      "execution_count": 34,
      "outputs": [
        {
          "output_type": "execute_result",
          "data": {
            "text/plain": [
              "4057                                The Unbelievable Truth\n",
              "25969                                        Lady Gangster\n",
              "36531                                                 Khel\n",
              "40457                     How to Hook Up Your Home Theater\n",
              "9531                                                Sitcom\n",
              "36063                    The Staircase II: The Last Chance\n",
              "31143                                       Deadly Daycare\n",
              "10996    Marilyn Hotchkiss' Ballroom Dancing & Charm Sc...\n",
              "22033                                         The Conclave\n",
              "19819                                          The Year 01\n",
              "Name: title, dtype: object"
            ]
          },
          "metadata": {
            "tags": []
          },
          "execution_count": 34
        }
      ]
    }
  ]
}